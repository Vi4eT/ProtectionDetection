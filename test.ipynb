{
 "cells": [
  {
   "cell_type": "code",
   "execution_count": 1,
   "metadata": {},
   "outputs": [],
   "source": [
    "# predict module might produce RuntimeError: Inference tensors do not track version counter.\n",
    "# to fix it, modify ultralytics/ultralytics/utils/torch_utils.py file:\n",
    "# replace \"return (torch.inference_mode if TORCH_1_9 else torch.no_grad)()(fn)\" line with \"return (torch.no_grad)()(fn)\"\n",
    "from pathlib import Path\n",
    "from ultralytics import YOLO\n",
    "import gc\n",
    "\n",
    "def test(path, descr):\n",
    "    model = YOLO('best.engine', 'detect')\n",
    "    results = model.predict(path, stream=True, half=True, verbose=False)\n",
    "    time = 0\n",
    "    for frames, result in enumerate(results, start=1):\n",
    "        time += sum(result.speed.values())\n",
    "    print(\"-----%s speed test-----\\nAverage frame time: %7.2f ms\\nAverage FPS: %14.2f FPS\" \n",
    "          % (descr, time / frames, frames / time * 1000))\n",
    "    del results, model\n",
    "    gc.collect()\n",
    "\n",
    "dir = Path.cwd() / 'datasets'"
   ]
  },
  {
   "cell_type": "code",
   "execution_count": 2,
   "metadata": {},
   "outputs": [
    {
     "name": "stdout",
     "output_type": "stream",
     "text": [
      "Ultralytics YOLOv8.2.31  Python-3.11.9 torch-2.2.2+cu121 CUDA:0 (NVIDIA GeForce RTX 3070 Ti, 8192MiB)\n",
      "Loading best.engine for TensorRT inference...\n"
     ]
    },
    {
     "name": "stderr",
     "output_type": "stream",
     "text": [
      "\u001b[34m\u001b[1mval: \u001b[0mScanning D:\\Repos\\ProtectionDetection\\datasets\\test\\labels.cache... 2677 images, 856 backgrounds, 0 corrupt: 100%|██████████| 2677/2677 [00:00<?, ?it/s]\n",
      "                 Class     Images  Instances      Box(P          R      mAP50  mAP50-95): 100%|██████████| 168/168 [00:12<00:00, 13.71it/s]\n"
     ]
    },
    {
     "name": "stdout",
     "output_type": "stream",
     "text": [
      "                   all       2677       4938      0.661      0.592      0.589      0.315\n",
      "                helmet       1351       3187      0.849      0.923      0.934      0.463\n",
      "                gloves        223        514       0.29      0.377      0.279      0.152\n",
      "               goggles        449        597      0.582      0.687      0.578      0.301\n",
      "              gas_mask        215        274      0.774      0.739      0.791      0.463\n",
      "              coverall        241        366       0.81      0.233      0.364      0.195\n",
      "Speed: 0.2ms preprocess, 0.9ms inference, 0.0ms loss, 0.7ms postprocess per image\n",
      "Results saved to \u001b[1mruns\\detect\\val24\u001b[0m\n"
     ]
    },
    {
     "data": {
      "text/plain": [
       "34164"
      ]
     },
     "execution_count": 2,
     "metadata": {},
     "output_type": "execute_result"
    }
   ],
   "source": [
    "model = YOLO('best.engine', 'detect')\n",
    "results = model.val(data=dir / 'data.yaml', split='test')\n",
    "del results, model\n",
    "gc.collect()"
   ]
  },
  {
   "cell_type": "code",
   "execution_count": 2,
   "metadata": {},
   "outputs": [
    {
     "name": "stdout",
     "output_type": "stream",
     "text": [
      "Loading best.engine for TensorRT inference...\n",
      "-----Image speed test-----\n",
      "Average frame time:    6.50 ms\n",
      "Average FPS:         153.81 FPS\n"
     ]
    }
   ],
   "source": [
    "test(dir / 'test/images', 'Image')"
   ]
  },
  {
   "cell_type": "code",
   "execution_count": 3,
   "metadata": {},
   "outputs": [
    {
     "name": "stdout",
     "output_type": "stream",
     "text": [
      "Loading best.engine for TensorRT inference...\n",
      "-----Video speed test-----\n",
      "Average frame time:    5.22 ms\n",
      "Average FPS:         191.68 FPS\n"
     ]
    }
   ],
   "source": [
    "test(dir / 'video.mp4', 'Video')"
   ]
  }
 ],
 "metadata": {
  "kernelspec": {
   "display_name": "Python 3",
   "language": "python",
   "name": "python3"
  },
  "language_info": {
   "codemirror_mode": {
    "name": "ipython",
    "version": 3
   },
   "file_extension": ".py",
   "mimetype": "text/x-python",
   "name": "python",
   "nbconvert_exporter": "python",
   "pygments_lexer": "ipython3",
   "version": "3.11.9"
  }
 },
 "nbformat": 4,
 "nbformat_minor": 2
}
